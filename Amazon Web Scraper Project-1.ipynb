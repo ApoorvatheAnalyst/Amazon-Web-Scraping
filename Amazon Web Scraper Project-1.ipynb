{
 "cells": [
  {
   "cell_type": "code",
   "execution_count": 21,
   "id": "629aac83",
   "metadata": {},
   "outputs": [],
   "source": [
    "# import libraries \n",
    "\n",
    "from bs4 import BeautifulSoup\n",
    "import requests\n",
    "import time\n",
    "import datetime\n",
    "\n",
    "import smtplib"
   ]
  },
  {
   "cell_type": "code",
   "execution_count": 22,
   "id": "ebd8c725",
   "metadata": {},
   "outputs": [
    {
     "name": "stdout",
     "output_type": "stream",
     "text": [
      "\n",
      "                     Allen Solly Men's Regular Fit Polo\n",
      "                    \n",
      "\n",
      "                      Jet Black\n",
      "                     \n",
      "\n",
      "                       699\n",
      "                      \n"
     ]
    }
   ],
   "source": [
    "# Connect to Website and pull in data\n",
    "\n",
    "URL = 'https://www.amazon.in/Allen-Solly-Regular-AMKP317G04249_Jet-Black_Large/dp/B06Y2FG6R7/ref=sr_1_12?crid=18657YNF3V90V&keywords=t%2Bshirt%2Bfor%2Bmen&qid=1693991276&sprefix=T%2Caps%2C330&sr=8-12&th=1&psc=1'\n",
    "\n",
    "headers = {\"User-Agent\": \"Mozilla/5.0 (Windows NT 10.0; Win64; x64) AppleWebKit/537.36 (KHTML, like Gecko) Chrome/78.0.3904.108 Safari/537.36\", \"Accept-Encoding\":\"gzip, deflate\", \"Accept\":\"text/html,application/xhtml+xml,application/xml;q=0.9,*/*;q=0.8\", \"DNT\":\"1\",\"Connection\":\"close\", \"Upgrade-Insecure-Requests\":\"1\"}\n",
    "\n",
    "page = requests.get(URL, headers=headers)\n",
    "\n",
    "soup1 = BeautifulSoup(page.content, \"html.parser\")\n",
    "\n",
    "soup2 = BeautifulSoup(soup1.prettify(), \"html.parser\")\n",
    "\n",
    "#title = soup2.find(id=\"productTitle\").get_text()\n",
    "title = soup2.find(name=\"span\", class_=\"a-size-large product-title-word-break\").get_text()\n",
    "\n",
    "#color = soup2.find(id='inline-twister-expanded-dimension-text-color_name').get_text()\n",
    "color = soup2.find(name=\"span\", class_=\"selection\").get_text()\n",
    "\n",
    "#price = soup2.find(id='corePriceDisplay_desktop_feature_div').get_text()\n",
    "#price = soup2.find(id='priceblock_ourprice').get_text()\n",
    "price = soup2.find(name=\"span\", class_=\"a-price-whole\").get_text()\n",
    "#print(soup2)\n",
    "print(title)\n",
    "print(color)\n",
    "print(price)\n",
    "#"
   ]
  },
  {
   "cell_type": "code",
   "execution_count": 23,
   "id": "db1908e7",
   "metadata": {},
   "outputs": [
    {
     "name": "stdout",
     "output_type": "stream",
     "text": [
      "Allen Solly Men's Regular Fit Polo\n",
      "Jet Black\n",
      "699\n"
     ]
    }
   ],
   "source": [
    "title=title.strip()\n",
    "color=color.strip()\n",
    "price=price.strip()\n",
    "\n",
    "print(title)\n",
    "print(color)\n",
    "print(price)"
   ]
  },
  {
   "cell_type": "code",
   "execution_count": 24,
   "id": "b97f3cea",
   "metadata": {},
   "outputs": [
    {
     "name": "stdout",
     "output_type": "stream",
     "text": [
      "2024-06-07\n"
     ]
    }
   ],
   "source": [
    "today = datetime.date.today()\n",
    "\n",
    "print(today)"
   ]
  },
  {
   "cell_type": "code",
   "execution_count": 25,
   "id": "6c0ef318",
   "metadata": {},
   "outputs": [],
   "source": [
    "import csv\n",
    "\n",
    "header=[\"TITLE\",\"COLOR\",\"DATE\",\"PRICE\"]\n",
    "data=[title,color,today,price]\n",
    "\n",
    "with open(\"Amazon_web_scraper_dataset.csv\",'w',newline='',encoding='UTF8') as f:\n",
    "    writer=csv.writer(f)\n",
    "    writer.writerow(header)\n",
    "    writer.writerow(data)\n",
    "    "
   ]
  },
  {
   "cell_type": "code",
   "execution_count": 26,
   "id": "9c4aae16",
   "metadata": {},
   "outputs": [
    {
     "name": "stdout",
     "output_type": "stream",
     "text": [
      "                                TITLE      COLOR        DATE  PRICE\n",
      "0  Allen Solly Men's Regular Fit Polo  Jet Black  2024-06-07    699\n"
     ]
    }
   ],
   "source": [
    "import pandas as pd\n",
    "\n",
    "df=pd.read_csv(r'C:\\Users\\Win-10\\Amazon_web_scraper_dataset.csv')\n",
    "\n",
    "print(df)"
   ]
  },
  {
   "cell_type": "code",
   "execution_count": 31,
   "id": "2f815f20",
   "metadata": {},
   "outputs": [],
   "source": [
    "#defining function to check latest price on the website automatically.\n",
    "\n",
    "def check_price():\n",
    "    \n",
    "    #connecting to website\n",
    "    URL = 'https://www.amazon.com/dp/B084WWZTX2/ref=sspa_dk_detail_6?psc=1&pd_rd_i=B084WWZTX2&pd_rd_w=5jDvz&content-id=amzn1.sym.46bad5f6-1f0a-4167-9a8b-c8a82fa48a54&pf_rd_p=46bad5f6-1f0a-4167-9a8b-c8a82fa48a54&pf_rd_r=1WKF6RSYZS41GVT6WQ45&pd_rd_wg=Az3H6&pd_rd_r=54bfaa07-550e-47a9-88d4-dadd1e5edca0&s=apparel&sp_csd=d2lkZ2V0TmFtZT1zcF9kZXRhaWw&spLa=ZW5jcnlwdGVkUXVhbGlmaWVyPUEyVUlFVVhIVEkzUzFBJmVuY3J5cHRlZElkPUEwMDA0ODUzMzZYRjZTV1Y0SUNHNiZlbmNyeXB0ZWRBZElkPUEwOTQ3OTA1Q0JDVkFZMVZLUllOJndpZGdldE5hbWU9c3BfZGV0YWlsJmFjdGlvbj1jbGlja1JlZGlyZWN0JmRvTm90TG9nQ2xpY2s9dHJ1ZQ=='\n",
    "\n",
    "    headers = {\"User-Agent\": \"Mozilla/5.0 (Windows NT 10.0; Win64; x64) AppleWebKit/537.36 (KHTML, like Gecko) Chrome/78.0.3904.108 Safari/537.36\", \"Accept-Encoding\":\"gzip, deflate\", \"Accept\":\"text/html,application/xhtml+xml,application/xml;q=0.9,*/*;q=0.8\", \"DNT\":\"1\",\"Connection\":\"close\", \"Upgrade-Insecure-Requests\":\"1\"}\n",
    "\n",
    "    page = requests.get(URL, headers=headers)\n",
    "\n",
    "    soup1 = BeautifulSoup(page.content, \"html.parser\")\n",
    "\n",
    "    soup2 = BeautifulSoup(soup1.prettify(), \"html.parser\")\n",
    "\n",
    "    title = soup2.find(id='title').get_text()\n",
    "\n",
    "    color = soup2.find(id='variation_color_name').get_text()\n",
    "\n",
    "    price = soup2.find(id='corePriceDisplay_desktop_feature_div').get_text()\n",
    "    \n",
    "    \n",
    "    #formatting the data\n",
    "    title=title.strip()\n",
    "    color=color.strip()\n",
    "    price=price.strip()\n",
    "    \n",
    "    \n",
    "    #storing the current date\n",
    "    import datetime\n",
    "    today = datetime.date.today()\n",
    "    \n",
    "    \n",
    "    #appending the data in the csv file\n",
    "    import csv\n",
    "    header=[\"TITLE\",\"COLOR\",\"DATE\",\"PRICE\"]\n",
    "    data=[title,color,today,price]\n",
    "\n",
    "    with open(\"Amazon_web_scraper_dataset.csv\",'a+',newline='',encoding='UTF8') as f:\n",
    "        writer=csv.writer(f)\n",
    "        writer.writerow(data)\n",
    "    "
   ]
  },
  {
   "cell_type": "code",
   "execution_count": 33,
   "id": "5492d065",
   "metadata": {},
   "outputs": [],
   "source": [
    "#setting time (every 24 hrs or 86400 secs) to append the updated price of the product on website.\n",
    "\n",
    "#while(True):\n",
    "    #check_price()\n",
    "    #time.sleep(5) "
   ]
  },
  {
   "cell_type": "code",
   "execution_count": 34,
   "id": "fb56e08d",
   "metadata": {},
   "outputs": [
    {
     "name": "stdout",
     "output_type": "stream",
     "text": [
      "                                TITLE      COLOR        DATE  PRICE\n",
      "0  Allen Solly Men's Regular Fit Polo  Jet Black  2024-06-07    699\n"
     ]
    }
   ],
   "source": [
    "df=pd.read_csv(r'C:\\Users\\Win-10\\Amazon_web_scraper_dataset.csv')\n",
    "\n",
    "print(df)\n"
   ]
  },
  {
   "cell_type": "code",
   "execution_count": 36,
   "id": "1130950c",
   "metadata": {},
   "outputs": [],
   "source": [
    "df=pd.DataFrame(df)"
   ]
  },
  {
   "cell_type": "code",
   "execution_count": 37,
   "id": "2378730a",
   "metadata": {},
   "outputs": [
    {
     "data": {
      "text/html": [
       "<div>\n",
       "<style scoped>\n",
       "    .dataframe tbody tr th:only-of-type {\n",
       "        vertical-align: middle;\n",
       "    }\n",
       "\n",
       "    .dataframe tbody tr th {\n",
       "        vertical-align: top;\n",
       "    }\n",
       "\n",
       "    .dataframe thead th {\n",
       "        text-align: right;\n",
       "    }\n",
       "</style>\n",
       "<table border=\"1\" class=\"dataframe\">\n",
       "  <thead>\n",
       "    <tr style=\"text-align: right;\">\n",
       "      <th></th>\n",
       "      <th>TITLE</th>\n",
       "      <th>COLOR</th>\n",
       "      <th>DATE</th>\n",
       "      <th>PRICE</th>\n",
       "    </tr>\n",
       "  </thead>\n",
       "  <tbody>\n",
       "    <tr>\n",
       "      <th>0</th>\n",
       "      <td>Allen Solly Men's Regular Fit Polo</td>\n",
       "      <td>Jet Black</td>\n",
       "      <td>2024-06-07</td>\n",
       "      <td>699</td>\n",
       "    </tr>\n",
       "  </tbody>\n",
       "</table>\n",
       "</div>"
      ],
      "text/plain": [
       "                                TITLE      COLOR        DATE  PRICE\n",
       "0  Allen Solly Men's Regular Fit Polo  Jet Black  2024-06-07    699"
      ]
     },
     "execution_count": 37,
     "metadata": {},
     "output_type": "execute_result"
    }
   ],
   "source": [
    "df"
   ]
  },
  {
   "cell_type": "code",
   "execution_count": null,
   "id": "57414d18",
   "metadata": {},
   "outputs": [],
   "source": []
  },
  {
   "cell_type": "code",
   "execution_count": null,
   "id": "094a8ae1",
   "metadata": {},
   "outputs": [],
   "source": []
  }
 ],
 "metadata": {
  "kernelspec": {
   "display_name": "Python 3 (ipykernel)",
   "language": "python",
   "name": "python3"
  },
  "language_info": {
   "codemirror_mode": {
    "name": "ipython",
    "version": 3
   },
   "file_extension": ".py",
   "mimetype": "text/x-python",
   "name": "python",
   "nbconvert_exporter": "python",
   "pygments_lexer": "ipython3",
   "version": "3.9.7"
  }
 },
 "nbformat": 4,
 "nbformat_minor": 5
}
